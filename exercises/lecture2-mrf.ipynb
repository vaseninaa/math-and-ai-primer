{
 "cells": [
  {
   "cell_type": "markdown",
   "id": "d1d4c1de-5a3b-4dd6-9e21-eca06fd8ea07",
   "metadata": {},
   "source": [
    "### Building and Performing Inference on a Markov Random Field in Python\n",
    "\n",
    "#### Objective\n",
    "In this exercise, you will create a Markov Random Field (MRF) to represent probabilistic relationships between variables and perform inference using the network.\n",
    "\n",
    "#### Instructions\n",
    "\n",
    "1. **Create a Markov Random Field**:\n",
    "   - Define the structure of the MRF.\n",
    "   - Specify the potential functions for each clique.\n",
    "\n",
    "2. **Perform Inference**:\n",
    "   - Implement functions to perform inference on the MRF, calculating marginal and conditional probabilities."
   ]
  },
  {
   "cell_type": "markdown",
   "id": "bdf6d589-d14f-4201-9f0e-6d434cb58d11",
   "metadata": {},
   "source": [
    "#### Step-by-Step Guide\n",
    "\n",
    "### Part 1: Define the Markov Random Field"
   ]
  },
  {
   "cell_type": "code",
   "execution_count": null,
   "id": "daf95a12-6fb8-46c9-905b-9b39c8afc010",
   "metadata": {},
   "outputs": [],
   "source": [
    "from pgmpy.models import MarkovNetwork\n",
    "from pgmpy.factors.discrete import DiscreteFactor\n",
    "from pgmpy.inference import BeliefPropagation\n",
    "\n",
    "# Define the structure of the Markov Random Field\n",
    "model = MarkovNetwork()\n",
    "model.add_edges_from([('A', 'C'), ('B', 'C'), ('C', 'D')])\n",
    "\n",
    "# Define the potential functions for each clique\n",
    "factor_a = DiscreteFactor(variables=['A'], cardinality=[2], values=[0.6, 0.4])\n",
    "factor_b = DiscreteFactor(variables=['B'], cardinality=[2], values=[0.7, 0.3])\n",
    "factor_c = DiscreteFactor(variables=['A', 'B', 'C'], cardinality=[2, 2, 2],\n",
    "                          values=[0.9, 0.1, 0.5, 0.5, 0.7, 0.3, 0.1, 0.9])\n",
    "factor_d = DiscreteFactor(variables=['C', 'D'], cardinality=[2, 2],\n",
    "                          values=[0.8, 0.2, 0.2, 0.8])\n",
    "\n",
    "# Add factors to the model\n",
    "model.add_factors(factor_a, factor_b, factor_c, factor_d)\n",
    "\n",
    "# Check if the model is valid\n",
    "assert model.check_model()"
   ]
  },
  {
   "cell_type": "markdown",
   "id": "35db7c47-5e72-48e8-b91a-b95f1a94d760",
   "metadata": {
    "tags": []
   },
   "source": [
    "### Part 2: Perform Inference\n",
    "1. **Perform Belief Propagation**:"
   ]
  },
  {
   "cell_type": "code",
   "execution_count": null,
   "id": "1496b159-371d-4e37-bd77-8f4536270184",
   "metadata": {},
   "outputs": [],
   "source": [
    "# Create an inference object\n",
    "inference = BeliefPropagation(model)\n",
    "\n",
    "# Compute the marginal probability of D\n",
    "marginal_d = inference.query(variables=['D'])\n",
    "print(marginal_d)\n",
    "\n",
    "# Compute the conditional probability of D given A=1 and B=0\n",
    "conditional_d_given_a1_b0 = inference.map_query(variables=['D'], evidence={'A': 1, 'B': 0})\n",
    "print(conditional_d_given_a1_b0)"
   ]
  },
  {
   "cell_type": "markdown",
   "id": "8f794d44-29b2-47a6-bc9a-d778dedac19b",
   "metadata": {},
   "source": [
    "### Additional Tasks\n",
    "\n",
    "1. **Extend the Network**:\n",
    "   - Add more nodes and edges to the network.\n",
    "   - Define potential functions for the new cliques."
   ]
  },
  {
   "cell_type": "code",
   "execution_count": null,
   "id": "89082b61-69f7-46a1-abfc-986d9edefa97",
   "metadata": {},
   "outputs": [],
   "source": [
    "# Add new nodes and edges\n",
    "model.add_edges_from([('D', 'E'), ('E', 'F')])\n",
    "\n",
    "# Define potential functions for the new cliques\n",
    "factor_e = DiscreteFactor(variables=['D', 'E'], cardinality=[2, 2],\n",
    "                          values=[0.6, 0.4, 0.3, 0.7])\n",
    "factor_f = DiscreteFactor(variables=['E', 'F'], cardinality=[2, 2],\n",
    "                          values=[0.3, 0.7, 0.6, 0.4])\n",
    "\n",
    "# Add new factors to the model\n",
    "model.add_factors(factor_e, factor_f)\n",
    "\n",
    "# Check if the updated model is valid\n",
    "assert model.check_model()\n",
    "\n",
    "# Perform inference on the extended network\n",
    "marginal_f = inference.query(variables=['F'])\n",
    "print(marginal_f)\n",
    "\n",
    "conditional_f_given_a1_b0 = inference.map_query(variables=['F'], evidence={'A': 1, 'B': 0})\n",
    "print(conditional_f_given_a1_b0)"
   ]
  },
  {
   "cell_type": "markdown",
   "id": "f60bc8d0-8700-4e69-b30e-fc4621c17179",
   "metadata": {},
   "source": [
    "2. **Validate the Model**:\n",
    "   - Use the `model.check_model()` method to ensure the model is correctly specified.\n",
    "\n",
    "3. **Test Different Queries**:\n",
    "   - Test the network with various queries to understand the influence of different variables."
   ]
  },
  {
   "cell_type": "code",
   "execution_count": null,
   "id": "a4058887-8801-4d93-bac1-ac25eb8e4516",
   "metadata": {},
   "outputs": [],
   "source": []
  }
 ],
 "metadata": {
  "kernelspec": {
   "display_name": "Python 3 (ipykernel)",
   "language": "python",
   "name": "python3"
  },
  "language_info": {
   "codemirror_mode": {
    "name": "ipython",
    "version": 3
   },
   "file_extension": ".py",
   "mimetype": "text/x-python",
   "name": "python",
   "nbconvert_exporter": "python",
   "pygments_lexer": "ipython3",
   "version": "3.11.9"
  }
 },
 "nbformat": 4,
 "nbformat_minor": 5
}
