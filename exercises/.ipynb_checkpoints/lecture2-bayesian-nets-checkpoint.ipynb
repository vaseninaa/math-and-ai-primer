{
 "cells": [
  {
   "cell_type": "markdown",
   "id": "5f706acc-059d-43f6-bcff-9d0b13d93b09",
   "metadata": {},
   "source": [
    "### Building and Performing Inference on a Bayesian Network\n",
    "\n",
    "#### Objective\n",
    "In this exercise, you will create a Bayesian network to represent probabilistic relationships between variables and perform inference using the network.\n",
    "\n",
    "#### Instructions\n",
    "   \n",
    "1. **Read and test the example code**:\n",
    "   - Read and test the code snippets below to create a semantic network of Romeo and Juliet with puppies.\n",
    "   \n",
    "2. **Create your own Bayesian Network**:\n",
    "   - Create the Bayesian network for the Holmes burglary example from the Neapolitan's chapter on uncertain knowledge representation. Assign some probabilities to the events. \n",
    "   - What would be some challenges when extending this data structure to more complicated events?\n",
    "\n",
    "3. **Make an inference**:\n",
    "   - Use your Bayesian network to make an inference."
   ]
  },
  {
   "cell_type": "markdown",
   "id": "ee4b3748-b351-4f24-8a69-b539346392ad",
   "metadata": {
    "tags": []
   },
   "source": [
    "#### Step-by-Step Guide\n",
    "\n",
    "This steo-by-step guide has two parts:\n",
    "1. **Create a Bayesian Network**:\n",
    "   - Define a structure for the network.\n",
    "   - Specify conditional probability tables (CPTs) for each node.\n",
    "\n",
    "2. **Perform Inference**:\n",
    "   - Implement functions to perform inference on the network, calculating marginal and conditional probabilities.\n",
    "\n",
    "### Part 1: Define the Bayesian Network\n",
    "\n",
    "Step 1.1. **Install `pgmpy` Library**:\n",
    "\n",
    "    ```\n",
    "    pip install pgmpy\n",
    "    ```\n",
    "    \n",
    "    or\n",
    "    \n",
    "\n",
    "    ```\n",
    "    conda install -c ankurankan pgmpy\n",
    "    ```"
   ]
  },
  {
   "cell_type": "markdown",
   "id": "d421bad5-5246-44cb-ad24-1e6a8e9537f8",
   "metadata": {},
   "source": [
    "Step 1.2. **Create a Bayesian Network Structure**:"
   ]
  },
  {
   "cell_type": "code",
   "execution_count": null,
   "id": "af0216f0-a2e0-42b6-826a-c9bf9cc42509",
   "metadata": {},
   "outputs": [],
   "source": [
    "from pgmpy.models import BayesianNetwork\n",
    "from pgmpy.factors.discrete import TabularCPD\n",
    "from pgmpy.inference import VariableElimination\n",
    "\n",
    "# Define the structure of the Bayesian Network\n",
    "model = BayesianNetwork([('A', 'C'), ('B', 'C'), ('C', 'D')])\n",
    "\n",
    "# Define the CPDs (Conditional Probability Distributions)\n",
    "cpd_a = TabularCPD(variable='A', variable_card=2, values=[[0.6], [0.4]])\n",
    "cpd_b = TabularCPD(variable='B', variable_card=2, values=[[0.7], [0.3]])\n",
    "cpd_c = TabularCPD(variable='C', variable_card=2, \n",
    "                   values=[[0.9, 0.5, 0.7, 0.1],\n",
    "                           [0.1, 0.5, 0.3, 0.9]],\n",
    "                   evidence=['A', 'B'],\n",
    "                   evidence_card=[2, 2])\n",
    "cpd_d = TabularCPD(variable='D', variable_card=2, \n",
    "                   values=[[0.8, 0.2],\n",
    "                           [0.2, 0.8]],\n",
    "                   evidence=['C'],\n",
    "                   evidence_card=[2])\n",
    "\n",
    "# Add CPDs to the model\n",
    "model.add_cpds(cpd_a, cpd_b, cpd_c, cpd_d)\n",
    "\n",
    "# Check if the model is valid\n",
    "assert model.check_model()"
   ]
  },
  {
   "cell_type": "markdown",
   "id": "1da0cc4c-71f2-4706-85b1-8fd1eaec13d7",
   "metadata": {},
   "source": [
    "### Part 2: Perform Inference\n",
    "\n",
    "Step 2.1. **Perform Variable Elimination**:"
   ]
  },
  {
   "cell_type": "code",
   "execution_count": null,
   "id": "ff3b84c0-5718-4dc8-b3cd-bb54452ac862",
   "metadata": {},
   "outputs": [],
   "source": [
    "# Create an inference object\n",
    "inference = VariableElimination(model)\n",
    "\n",
    "# Compute the probability of D given A=1 and B=0\n",
    "prob_d_given_a1_b0 = inference.query(variables=['D'], evidence={'A': 1, 'B': 0})\n",
    "print(prob_d_given_a1_b0)\n",
    "\n",
    "# Compute the marginal probability of C\n",
    "prob_c = inference.query(variables=['C'])\n",
    "print(prob_c)"
   ]
  },
  {
   "cell_type": "markdown",
   "id": "4d89db34-c1eb-4749-8ecc-1ce5bf2d9d8a",
   "metadata": {},
   "source": [
    "### Additional Tasks\n",
    "\n",
    "1. **Extend the Network**:\n",
    "   - Add more nodes and edges to the network.\n",
    "   - Define CPDs for the new nodes."
   ]
  },
  {
   "cell_type": "code",
   "execution_count": null,
   "id": "c743b635-1d6d-466b-9f24-2a2ea9a937a4",
   "metadata": {},
   "outputs": [],
   "source": [
    "# Add new nodes and edges\n",
    "model.add_edges_from([('D', 'E'), ('E', 'F')])\n",
    "\n",
    "# Define CPDs for the new nodes\n",
    "cpd_e = TabularCPD(variable='E', variable_card=2,\n",
    "                   values=[[0.6, 0.3],\n",
    "                           [0.4, 0.7]],\n",
    "                   evidence=['D'],\n",
    "                   evidence_card=[2])\n",
    "cpd_f = TabularCPD(variable='F', variable_card=2,\n",
    "                   values=[[0.3, 0.6],\n",
    "                           [0.7, 0.4]],\n",
    "                   evidence=['E'],\n",
    "                   evidence_card=[2])\n",
    "\n",
    "# Add new CPDs to the model\n",
    "model.add_cpds(cpd_e, cpd_f)\n",
    "\n",
    "# Check if the updated model is valid\n",
    "assert model.check_model()\n",
    "\n",
    "# Perform inference on the extended network\n",
    "prob_f_given_a1_b0 = inference.query(variables=['F'], evidence={'A': 1, 'B': 0})\n",
    "    print(prob_f_given_a1_b0)"
   ]
  },
  {
   "cell_type": "markdown",
   "id": "b13698cc-3224-41cc-b642-d98d8ddc35f7",
   "metadata": {},
   "source": [
    "2. **Validate the Model**:\n",
    "   - Use the `model.check_model()` method to ensure the model is correctly specified.\n",
    "\n",
    "3. **Test Different Queries**:\n",
    "   - Test the network with various queries to understand the influence of different variables."
   ]
  },
  {
   "cell_type": "code",
   "execution_count": null,
   "id": "201a8f9e-47a9-4882-a58f-ce7b824156af",
   "metadata": {},
   "outputs": [],
   "source": []
  }
 ],
 "metadata": {
  "kernelspec": {
   "display_name": "Python 3 (ipykernel)",
   "language": "python",
   "name": "python3"
  },
  "language_info": {
   "codemirror_mode": {
    "name": "ipython",
    "version": 3
   },
   "file_extension": ".py",
   "mimetype": "text/x-python",
   "name": "python",
   "nbconvert_exporter": "python",
   "pygments_lexer": "ipython3",
   "version": "3.9.16"
  }
 },
 "nbformat": 4,
 "nbformat_minor": 5
}
