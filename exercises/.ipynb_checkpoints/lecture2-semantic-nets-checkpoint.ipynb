{
 "cells": [
  {
   "cell_type": "markdown",
   "id": "1fa53399-a43c-41d5-8427-4e35d74bb0b7",
   "metadata": {},
   "source": [
    "### Representing and Querying a Semantic Network using First-Order Logic\n",
    "\n",
    "#### Objective\n",
    "In this exercise, you will create a simple semantic network representing relationships between different entities. As your working example, use a movie, TV show, or book that everyone in your group is familiar with. You will then write functions to query the network using first-order logic.\n",
    "\n",
    "#### Instructions\n",
    "\n",
    "1. **Read and test the example code**:\n",
    "   - Read and test the code snippets below to create a semantic network of Romeo and Juliet with puppies.\n",
    "   \n",
    "2. **Create your own Semantic Network**:\n",
    "   - Use the step-by-step guide and the code snippets therein to define your own semantic network of a fictional universe of your choice. \n",
    "   - What are some challenges that you experience in creating the semantic network?\n",
    "     \n",
    "3. **Add additional query functions that enable querying symmetric or transitive relationships**"
   ]
  },
  {
   "cell_type": "markdown",
   "id": "5ea9de6b-2124-44d9-bfe2-a5ae1c727b91",
   "metadata": {},
   "source": [
    "#### Step-by-Step Guide with an example using Romeo & Juliet & puppies\n",
    "\n",
    "Step 1. **Define the Classes**:"
   ]
  },
  {
   "cell_type": "code",
   "execution_count": 1,
   "id": "8a7b5842-ccc8-449f-8076-93568a2ddd1d",
   "metadata": {
    "tags": []
   },
   "outputs": [],
   "source": [
    "class Entity:\n",
    "    \n",
    "    # function to create an instance of \"Entity\"\n",
    "    def __init__(self, name):\n",
    "        # Add the name of the entity as its attribute\n",
    "        self.name = name\n",
    "        self.default_relations={}\n",
    "        \n",
    "    # function to add a relation that applies to all instances of this entity by default\n",
    "    def add_default_relation(self, relation, entity):\n",
    "        if relation not in self.default_relations:\n",
    "            self.default_relations[relation] = []\n",
    "        self.default_relations[relation].append(entity)\n",
    "    \n",
    "    \n",
    "class Person(Entity):\n",
    "    \n",
    "    def __init__(self, name):\n",
    "        # use function from parent class to create an instance of \"Person\"\n",
    "        super().__init__(name)\n",
    "        # implement as default that everyone likes puppies\n",
    "        self.add_default_relation(\"likes\", \"Puppy\")\n",
    "    \n",
    "    \n",
    "class Animal(Entity):\n",
    "    \n",
    "    def __init__(self, name):\n",
    "        # use function from parent class to create an instance of \"Animal\"\n",
    "        super().__init__(name)\n",
    "        # implement as default that all animals want food\n",
    "        self.add_default_relation(\"wants\", \"Treat\")\n",
    "\n",
    "        \n",
    "class Relationship:\n",
    "    \n",
    "    def __init__(self, entity_name1, relation, entity_name2):\n",
    "        self.entity1 = entity_name1\n",
    "        self.relation = relation\n",
    "        self.entity2 = entity_name2\n",
    "        \n",
    "    # function to convert relationship to a printable format    \n",
    "    def __repr__(self):\n",
    "        return f\"{self.entity1} {self.relation} {self.entity2}\"\n",
    "        \n",
    "        \n",
    "class SemanticNetwork:\n",
    "    \n",
    "    def __init__(self):\n",
    "        self.entities = {}\n",
    "        self.relationships = []\n",
    "\n",
    "        \n",
    "    def add_entity(self, entity):\n",
    "        \n",
    "        if entity.name not in self.entities:\n",
    "            # add entity\n",
    "            self.entities[entity.name] = entity\n",
    "            \n",
    "            # add its default relations\n",
    "            for relation, entity_names in entity.default_relations.items():\n",
    "                for entity_name in entity_names:\n",
    "                    if entity_name in self.entities:\n",
    "                        entity2 = self.entities[entity_name]\n",
    "                        self.relationships.append(\n",
    "                            Relationship(entity, relation, entity2))\n",
    "\n",
    "                        \n",
    "    def add_relation(self, entity_name1, relation, entity_name2):\n",
    "        \n",
    "        if entity_name1 in self.entities and entity_name2 in self.entities:\n",
    "            # find entities by their names\n",
    "            entity1 = self.entities[entity_name1]\n",
    "            entity2 = self.entities[entity_name2]\n",
    "            self.relationships.append(Relationship(entity1, relation, entity2))\n",
    "\n",
    "            \n",
    "    def query(self, entity_name1, relation, entity_name2):\n",
    "        \n",
    "        if entity_name1 in self.entities and entity_name2 in self.entities:        \n",
    "            # find entities by their names\n",
    "            entity1 = self.entities[entity_name1]\n",
    "            entity2 = self.entities[entity_name2]\n",
    "\n",
    "            # search for the queried relationship\n",
    "            for r in self.relationships:\n",
    "                if r.entity1 == entity1 and r.entity2 == entity2:\n",
    "                    if r.relation == relation:\n",
    "                        return True\n",
    "                    \n",
    "        # return False if either entity or the relationship was not found\n",
    "        return False"
   ]
  },
  {
   "cell_type": "markdown",
   "id": "c0a6294c-40c1-4c37-b186-78245beba40c",
   "metadata": {},
   "source": [
    "Step 2. **Add Entities and Relationships**:"
   ]
  },
  {
   "cell_type": "code",
   "execution_count": 2,
   "id": "8d3c3d14-517d-4486-b2f3-7fd146cb55fe",
   "metadata": {
    "tags": []
   },
   "outputs": [],
   "source": [
    "# Create a semantic network\n",
    "network = SemanticNetwork()\n",
    "\n",
    "# Add a puppy and treat\n",
    "network.add_entity(Entity(\"Treat\"))\n",
    "network.add_entity(Animal(\"Puppy\"))\n",
    "\n",
    "# Add three characters \n",
    "network.add_entity(Person(\"Romeo\"))\n",
    "network.add_entity(Person(\"Juliet\"))\n",
    "network.add_entity(Person(\"Benvolio\"))\n",
    "\n",
    "# Add relationships\n",
    "network.add_relation(\"Romeo\", \"knows\", \"Benvolio\")\n",
    "network.add_relation(\"Romeo\", \"knows\", \"Juliet\")\n",
    "network.add_relation(\"Romeo\", \"is cousin of\", \"Benvolio\")\n",
    "network.add_relation(\"Romeo\", \"is in love with\", \"Juliet\")"
   ]
  },
  {
   "cell_type": "markdown",
   "id": "ea8f10c1-f97a-4489-a5e3-8dee9de5f24c",
   "metadata": {
    "tags": []
   },
   "source": [
    "Step 3. **Query the Network**:"
   ]
  },
  {
   "cell_type": "code",
   "execution_count": 5,
   "id": "9ab73f14-39f6-4eaf-ab18-0714fd29426c",
   "metadata": {
    "tags": []
   },
   "outputs": [
    {
     "name": "stdout",
     "output_type": "stream",
     "text": [
      "True\n",
      "True\n",
      "False\n"
     ]
    }
   ],
   "source": [
    "# Query examples\n",
    "print(network.query(\"Romeo\", \"knows\", \"Benvolio\"))    # Output: True\n",
    "print(network.query(\"Romeo\", \"likes\", \"Puppy\")) # Output: True\n",
    "print(network.query(\"Juliet\", \"is cousin of\", \"Benvolio\")) # Output: False"
   ]
  },
  {
   "cell_type": "markdown",
   "id": "a4cd9ea4-360a-4be1-bede-140f2aa5b7c6",
   "metadata": {},
   "source": [
    "#### Additional Tasks for Part 3\n",
    "\n",
    "1. **Implement symmetric Relationships**:\n",
    "   - Extend the `query` method to handle symmetric relationships. For example, if Benvolio knows Romeo, then Romeo also knows Benvolio."
   ]
  },
  {
   "cell_type": "code",
   "execution_count": 6,
   "id": "3f44e845-2acc-4e42-a75b-b74042fc79bd",
   "metadata": {},
   "outputs": [],
   "source": [
    "def query_symmetric(self, entity1, relation):\n",
    "   \"\"\"ADD SOME CODE\"\"\""
   ]
  },
  {
   "cell_type": "markdown",
   "id": "3c8bb868-2420-4885-a84a-19f70cd9e7d6",
   "metadata": {
    "tags": []
   },
   "source": [
    "2. **Implement Transitive Relationships**:\n",
    "   - Extend the `query` method to handle transitive relationships. For example, if Benvolio knows Romeo, and Romeo knows Juliet, then Benvolio knows Juliet."
   ]
  },
  {
   "cell_type": "code",
   "execution_count": 7,
   "id": "9ea0967f-08a2-4122-ab8f-7831b6f84957",
   "metadata": {
    "tags": []
   },
   "outputs": [],
   "source": [
    "def query_transitive(self, entity1, relation, entity2):\n",
    "   \"\"\"ADD SOME CODE\"\"\""
   ]
  }
 ],
 "metadata": {
  "kernelspec": {
   "display_name": "Python 3 (ipykernel)",
   "language": "python",
   "name": "python3"
  },
  "language_info": {
   "codemirror_mode": {
    "name": "ipython",
    "version": 3
   },
   "file_extension": ".py",
   "mimetype": "text/x-python",
   "name": "python",
   "nbconvert_exporter": "python",
   "pygments_lexer": "ipython3",
   "version": "3.9.16"
  }
 },
 "nbformat": 4,
 "nbformat_minor": 5
}
