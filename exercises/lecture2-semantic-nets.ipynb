{
 "cells": [
  {
   "cell_type": "markdown",
   "id": "1fa53399-a43c-41d5-8427-4e35d74bb0b7",
   "metadata": {},
   "source": [
    "### Representing and Querying a Semantic Network using First-Order Logic\n",
    "\n",
    "#### Objective\n",
    "In this exercise, you will create a simple semantic network representing relationships between different entities. As your working example, use a movie, TV show, or book that everyone in your group is familiar with. You will then write functions to query the network using first-order logic.\n",
    "\n",
    "#### Instructions\n",
    "\n",
    "1. **Read and test the example code**:\n",
    "   - Read and test the code snippets below to create a semantic network of Romeo and Juliet with puppies.\n",
    "   \n",
    "2. **Create your own Semantic Network**:\n",
    "   - Use the step-by-step guide and the code snippets therein to define your own semantic network of a fictional universe of your choice. \n",
    "   - What are some challenges that you experience in creating the semantic network?\n",
    "     \n",
    "3. **Add additional query functions that enable querying symmetric or transitive relationships**"
   ]
  },
  {
   "cell_type": "markdown",
   "id": "5ea9de6b-2124-44d9-bfe2-a5ae1c727b91",
   "metadata": {},
   "source": [
    "#### Step-by-Step Guide with an example using Romeo & Juliet & puppies\n",
    "\n",
    "Step 1. **Define the Classes**:"
   ]
  },
  {
   "cell_type": "code",
   "execution_count": null,
   "id": "8a7b5842-ccc8-449f-8076-93568a2ddd1d",
   "metadata": {},
   "outputs": [],
   "source": [
    "class Entity:\n",
    "    \n",
    "    # function to create an instance of \"Entity\"\n",
    "    def __init__(self, name):\n",
    "        # Add the name of the entity as its attribute\n",
    "        self.name = name\n",
    "        \n",
    "    # function to add a relation that applies to all instances of this entity by default\n",
    "    def add_default_relation(self, relation, entity):\n",
    "        if relation not in self.default_relations:\n",
    "            self.default_relations[relation] = []\n",
    "        self.default_relations[relation].append(entity)\n",
    "        \n",
    "class Person(Entity):\n",
    "    def __init__(self, name):\n",
    "        # use function from parent class to create an instance of \"Person\"\n",
    "        super().__init__(name)\n",
    "        \n",
    "        # implement as default that everyone likes puppies\n",
    "        self.add_default_relation(\"likes\", \"Puppy\")\n",
    "        \n",
    "class Animal(Entity):\n",
    "    def __init__(self, name):\n",
    "        super().__init__(name)\n",
    "        # implement as default that all animals want food\n",
    "        self.add_default_relation(\"wants\", \"food\")\n",
    "\n",
    "class Student(Person):\n",
    "    def __init__(self, name, school):\n",
    "        # use function from parent class to create an instance of \"Student\"\n",
    "        super().__init__(name)\n",
    "\n",
    "class Relationship:\n",
    "    def __init__(self, entity1, relation, entity2):\n",
    "        self.entity1 = entity1\n",
    "        self.relation = relation\n",
    "        self.entity2 = entity2\n",
    "        \n",
    "    def add_default_relation(self, relation, entity):\n",
    "        if relation not in self.default_relations:\n",
    "            self.default_relations[relation] = []\n",
    "        self.default_relations[relation].append(entity)\n",
    "\n",
    "class SemanticNetwork:\n",
    "    def __init__(self):\n",
    "        self.entities = {}\n",
    "        self.relationships = []\n",
    "\n",
    "    def add_entity(self, name):\n",
    "        if name not in self.entities:\n",
    "            self.entities[name] = Entity(name)\n",
    "\n",
    "    def add_relationship(self, entity1, relation, entity2):\n",
    "        if entity1 in self.entities and entity2 in self.entities:\n",
    "            self.relationships.append(Relationship(entity1, relation, entity2))\n",
    "\n",
    "    def query(self, entity1, relation, entity2):\n",
    "        return any(rel.entity1 == entity1 and rel.relation == relation and rel.entity2 == entity2 for rel in self.relationships)"
   ]
  },
  {
   "cell_type": "markdown",
   "id": "c0a6294c-40c1-4c37-b186-78245beba40c",
   "metadata": {},
   "source": [
    "Step 2. **Add Entities and Relationships**:"
   ]
  },
  {
   "cell_type": "code",
   "execution_count": null,
   "id": "8d3c3d14-517d-4486-b2f3-7fd146cb55fe",
   "metadata": {},
   "outputs": [],
   "source": [
    "# Create a semantic network\n",
    "network = SemanticNetwork()\n",
    "\n",
    "# Add three characters \n",
    "network.add_entity(Person(\"Romeo\"))\n",
    "network.add_entity(Person(\"Julia\"))\n",
    "network.add_entity(Person(\"Benvolio\"))\n",
    "\n",
    "# Add a puppy\n",
    "network.add_entity(Animal(\"Puppy\"))\n",
    "\n",
    "# Add relationships\n",
    "network.add_relationship(\"Romeo\", \"knows\", \"Benvolio\")\n",
    "network.add_relationship(\"Romeo\", \"knows\", \"Juliet\")\n",
    "network.add_relationship(\"Romeo\", \"is cousin of\", \"Benvolio\")\n",
    "network.add_relationship(\"Romeo\", \"is in love with\", \"Juliet\")"
   ]
  },
  {
   "cell_type": "markdown",
   "id": "ea8f10c1-f97a-4489-a5e3-8dee9de5f24c",
   "metadata": {
    "tags": []
   },
   "source": [
    "Step 3. **Query the Network**:"
   ]
  },
  {
   "cell_type": "code",
   "execution_count": null,
   "id": "9ab73f14-39f6-4eaf-ab18-0714fd29426c",
   "metadata": {},
   "outputs": [],
   "source": [
    "# Query examples\n",
    "print(network.query(\"Romeo\", \"knows\", \"Benvolio\"))    # Output: True\n",
    "print(network.query(\"Romeo\", \"likes\", \"Puppy\")) # Output: True\n",
    "print(network.query(\"Juliet\", \"is cousin of\", \"Benvolio\")) # Output: False"
   ]
  },
  {
   "cell_type": "markdown",
   "id": "a4cd9ea4-360a-4be1-bede-140f2aa5b7c6",
   "metadata": {},
   "source": [
    "#### Additional Tasks for Part 3\n",
    "\n",
    "1. **Implement symmetric Relationships**:\n",
    "   - Extend the `query` method to handle symmetric relationships. For example, if Benvolio knows Romeo, then Romeo also knows Benvolio."
   ]
  },
  {
   "cell_type": "code",
   "execution_count": null,
   "id": "3f44e845-2acc-4e42-a75b-b74042fc79bd",
   "metadata": {},
   "outputs": [],
   "source": [
    "def query_symmetric(self, entity1, relation):\n",
    "   \"\"\"ADD SOME CODE\"\"\""
   ]
  },
  {
   "cell_type": "markdown",
   "id": "3c8bb868-2420-4885-a84a-19f70cd9e7d6",
   "metadata": {
    "tags": []
   },
   "source": [
    "2. **Implement Transitive Relationships**:\n",
    "   - Extend the `query` method to handle transitive relationships. For example, if Benvolio knows Romeo, and Romeo knows Juliet, then Benvolio knows Juliet."
   ]
  },
  {
   "cell_type": "code",
   "execution_count": null,
   "id": "9ea0967f-08a2-4122-ab8f-7831b6f84957",
   "metadata": {},
   "outputs": [],
   "source": [
    "def query_transitive(self, entity1, relation, entity2):\n",
    "   \"\"\"ADD SOME CODE\"\"\""
   ]
  }
 ],
 "metadata": {
  "kernelspec": {
   "display_name": "Python 3 (ipykernel)",
   "language": "python",
   "name": "python3"
  },
  "language_info": {
   "codemirror_mode": {
    "name": "ipython",
    "version": 3
   },
   "file_extension": ".py",
   "mimetype": "text/x-python",
   "name": "python",
   "nbconvert_exporter": "python",
   "pygments_lexer": "ipython3",
   "version": "3.9.16"
  }
 },
 "nbformat": 4,
 "nbformat_minor": 5
}
