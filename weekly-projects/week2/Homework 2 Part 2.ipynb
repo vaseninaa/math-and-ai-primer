{
 "cells": [
  {
   "cell_type": "code",
   "execution_count": 10,
   "id": "fb91f56b-fc44-48c1-9345-8916f19d280c",
   "metadata": {},
   "outputs": [],
   "source": [
    "# Homework 2 Part 2 (due 7/07/2024)"
   ]
  },
  {
   "cell_type": "markdown",
   "id": "08469748-4a10-4631-9842-16f74f16fd7f",
   "metadata": {},
   "source": [
    "# Health-care assistance via probabilistic graphical modeling\n",
    "\n",
    "### Objective\n",
    "In this project, you will create a health-care assistance bot that can suggest diagnoses for a set of symptoms based on a probabilistic graphical model.\n",
    "\n",
    "### Step 1: Review \n",
    "Review the code from the Bayesian networks exercise.\n",
    "\n",
    "### Step 2: Acquire data\n",
    "View this [research article](https://www.nature.com/articles/ncomms5212) and download its supplementary data sets 1, 2 and 3. These data sets include the occurrences of diseases, symptoms, and their co-occurrences in the scientific literature. (For the purpose of this exercise, we are going to assume that the frequency of co-occurrences of diseases and symptoms in scientific papers is proportional to the co-occurence frequencies of actual disease cases and symptoms.)\n",
    "\n",
    "### Step 3: Create a Bayesian network\n",
    "Using commands from the `pgmpy` library, create a Bayesian network in which the probability of exhibiting a symptom is conditional on the probability of having an associated disease. \n",
    "\n",
    "### Step 4: Initialize priors\n",
    "Use the disease occurrence data to assign prior probabilities for diseases.\n",
    "\n",
    "### Step 5: Calculate conditional probability tables\n",
    "Use the co-occurrence data to define CPTs for each connected pair of disease and symptoms. (Hint: You may need to assign some occurrences of symptoms to an \"idiopathic disease\" to create valid CPTs.)\n",
    "\n",
    "### Step 6:\n",
    "Create a minimal interface in which your bot asks a users for a list of observed symptoms and then returns the name of the disease that is the most likely match to the symptoms. (Hint: Review the input/output commands that you have used in last week's homework.)"
   ]
  },
  {
   "cell_type": "markdown",
   "id": "4deba195",
   "metadata": {},
   "source": [
    "#### Step 2\n",
    "\n",
    "Let's load the data to get an idea of what it looks like."
   ]
  },
  {
   "cell_type": "code",
   "execution_count": 11,
   "id": "38e7f11e-ec71-4e73-bbca-b02b632c0850",
   "metadata": {},
   "outputs": [],
   "source": [
    "import pandas as pd\n",
    "from pgmpy.models import BayesianNetwork\n",
    "from pgmpy.factors.discrete import TabularCPD\n",
    "from pgmpy.inference import VariableElimination"
   ]
  },
  {
   "cell_type": "code",
   "execution_count": 12,
   "id": "11635543",
   "metadata": {},
   "outputs": [
    {
     "data": {
      "text/html": [
       "<div>\n",
       "<style scoped>\n",
       "    .dataframe tbody tr th:only-of-type {\n",
       "        vertical-align: middle;\n",
       "    }\n",
       "\n",
       "    .dataframe tbody tr th {\n",
       "        vertical-align: top;\n",
       "    }\n",
       "\n",
       "    .dataframe thead th {\n",
       "        text-align: right;\n",
       "    }\n",
       "</style>\n",
       "<table border=\"1\" class=\"dataframe\">\n",
       "  <thead>\n",
       "    <tr style=\"text-align: right;\">\n",
       "      <th></th>\n",
       "      <th>MeSH Disease Term</th>\n",
       "      <th>PubMed occurrence</th>\n",
       "    </tr>\n",
       "  </thead>\n",
       "  <tbody>\n",
       "    <tr>\n",
       "      <th>0</th>\n",
       "      <td>Breast Neoplasms</td>\n",
       "      <td>122226</td>\n",
       "    </tr>\n",
       "    <tr>\n",
       "      <th>1</th>\n",
       "      <td>Hypertension</td>\n",
       "      <td>107294</td>\n",
       "    </tr>\n",
       "    <tr>\n",
       "      <th>2</th>\n",
       "      <td>Coronary Artery Disease</td>\n",
       "      <td>82819</td>\n",
       "    </tr>\n",
       "    <tr>\n",
       "      <th>3</th>\n",
       "      <td>Lung Neoplasms</td>\n",
       "      <td>78009</td>\n",
       "    </tr>\n",
       "    <tr>\n",
       "      <th>4</th>\n",
       "      <td>Myocardial Infarction</td>\n",
       "      <td>75945</td>\n",
       "    </tr>\n",
       "  </tbody>\n",
       "</table>\n",
       "</div>"
      ],
      "text/plain": [
       "         MeSH Disease Term  PubMed occurrence\n",
       "0         Breast Neoplasms             122226\n",
       "1             Hypertension             107294\n",
       "2  Coronary Artery Disease              82819\n",
       "3           Lung Neoplasms              78009\n",
       "4    Myocardial Infarction              75945"
      ]
     },
     "execution_count": 12,
     "metadata": {},
     "output_type": "execute_result"
    }
   ],
   "source": [
    "diseases_df = pd.read_csv(\"supmat1.txt\", sep='\\t')\n",
    "diseases_df.head()"
   ]
  },
  {
   "cell_type": "code",
   "execution_count": 13,
   "id": "460484aa",
   "metadata": {},
   "outputs": [
    {
     "data": {
      "text/html": [
       "<div>\n",
       "<style scoped>\n",
       "    .dataframe tbody tr th:only-of-type {\n",
       "        vertical-align: middle;\n",
       "    }\n",
       "\n",
       "    .dataframe tbody tr th {\n",
       "        vertical-align: top;\n",
       "    }\n",
       "\n",
       "    .dataframe thead th {\n",
       "        text-align: right;\n",
       "    }\n",
       "</style>\n",
       "<table border=\"1\" class=\"dataframe\">\n",
       "  <thead>\n",
       "    <tr style=\"text-align: right;\">\n",
       "      <th></th>\n",
       "      <th>MeSH Symptom Term</th>\n",
       "      <th>PubMed occurrence</th>\n",
       "    </tr>\n",
       "  </thead>\n",
       "  <tbody>\n",
       "    <tr>\n",
       "      <th>0</th>\n",
       "      <td>Body Weight</td>\n",
       "      <td>147857</td>\n",
       "    </tr>\n",
       "    <tr>\n",
       "      <th>1</th>\n",
       "      <td>Pain</td>\n",
       "      <td>103168</td>\n",
       "    </tr>\n",
       "    <tr>\n",
       "      <th>2</th>\n",
       "      <td>Obesity</td>\n",
       "      <td>100301</td>\n",
       "    </tr>\n",
       "    <tr>\n",
       "      <th>3</th>\n",
       "      <td>Anoxia</td>\n",
       "      <td>47351</td>\n",
       "    </tr>\n",
       "    <tr>\n",
       "      <th>4</th>\n",
       "      <td>Mental Retardation</td>\n",
       "      <td>43883</td>\n",
       "    </tr>\n",
       "  </tbody>\n",
       "</table>\n",
       "</div>"
      ],
      "text/plain": [
       "    MeSH Symptom Term  PubMed occurrence\n",
       "0         Body Weight             147857\n",
       "1                Pain             103168\n",
       "2             Obesity             100301\n",
       "3              Anoxia              47351\n",
       "4  Mental Retardation              43883"
      ]
     },
     "execution_count": 13,
     "metadata": {},
     "output_type": "execute_result"
    }
   ],
   "source": [
    "symptoms_df = pd.read_csv(\"supmat2.txt\", sep='\\t')\n",
    "symptoms_df.head()"
   ]
  },
  {
   "cell_type": "code",
   "execution_count": 14,
   "id": "80dca885",
   "metadata": {},
   "outputs": [
    {
     "data": {
      "text/html": [
       "<div>\n",
       "<style scoped>\n",
       "    .dataframe tbody tr th:only-of-type {\n",
       "        vertical-align: middle;\n",
       "    }\n",
       "\n",
       "    .dataframe tbody tr th {\n",
       "        vertical-align: top;\n",
       "    }\n",
       "\n",
       "    .dataframe thead th {\n",
       "        text-align: right;\n",
       "    }\n",
       "</style>\n",
       "<table border=\"1\" class=\"dataframe\">\n",
       "  <thead>\n",
       "    <tr style=\"text-align: right;\">\n",
       "      <th></th>\n",
       "      <th>MeSH Symptom Term</th>\n",
       "      <th>MeSH Disease Term</th>\n",
       "      <th>PubMed occurrence</th>\n",
       "      <th>TFIDF score</th>\n",
       "    </tr>\n",
       "  </thead>\n",
       "  <tbody>\n",
       "    <tr>\n",
       "      <th>0</th>\n",
       "      <td>Aging, Premature</td>\n",
       "      <td>Respiratory Syncytial Virus Infections</td>\n",
       "      <td>1</td>\n",
       "      <td>3.464551</td>\n",
       "    </tr>\n",
       "    <tr>\n",
       "      <th>1</th>\n",
       "      <td>Aging, Premature</td>\n",
       "      <td>Orthomyxoviridae Infections</td>\n",
       "      <td>1</td>\n",
       "      <td>3.464551</td>\n",
       "    </tr>\n",
       "    <tr>\n",
       "      <th>2</th>\n",
       "      <td>Aging, Premature</td>\n",
       "      <td>HIV Infections</td>\n",
       "      <td>3</td>\n",
       "      <td>10.393654</td>\n",
       "    </tr>\n",
       "    <tr>\n",
       "      <th>3</th>\n",
       "      <td>Aging, Premature</td>\n",
       "      <td>Acquired Immunodeficiency Syndrome</td>\n",
       "      <td>3</td>\n",
       "      <td>10.393654</td>\n",
       "    </tr>\n",
       "    <tr>\n",
       "      <th>4</th>\n",
       "      <td>Aging, Premature</td>\n",
       "      <td>Breast Neoplasms</td>\n",
       "      <td>1</td>\n",
       "      <td>3.464551</td>\n",
       "    </tr>\n",
       "  </tbody>\n",
       "</table>\n",
       "</div>"
      ],
      "text/plain": [
       "  MeSH Symptom Term                       MeSH Disease Term  \\\n",
       "0  Aging, Premature  Respiratory Syncytial Virus Infections   \n",
       "1  Aging, Premature             Orthomyxoviridae Infections   \n",
       "2  Aging, Premature                          HIV Infections   \n",
       "3  Aging, Premature      Acquired Immunodeficiency Syndrome   \n",
       "4  Aging, Premature                        Breast Neoplasms   \n",
       "\n",
       "   PubMed occurrence  TFIDF score  \n",
       "0                  1     3.464551  \n",
       "1                  1     3.464551  \n",
       "2                  3    10.393654  \n",
       "3                  3    10.393654  \n",
       "4                  1     3.464551  "
      ]
     },
     "execution_count": 14,
     "metadata": {},
     "output_type": "execute_result"
    }
   ],
   "source": [
    "cooccurrences_df = pd.read_csv(\"supmat3.txt\", sep='\\t')\n",
    "cooccurrences_df.head()"
   ]
  },
  {
   "cell_type": "markdown",
   "id": "324f827e",
   "metadata": {},
   "source": [
    "#### Step 3-5"
   ]
  },
  {
   "cell_type": "code",
   "execution_count": 16,
   "id": "eac2c8e5",
   "metadata": {},
   "outputs": [],
   "source": [
    "\n",
    "\n",
    "# Step 4: Assign Prior Probabilities based on occurrence data of diseases\n",
    "# We will treat occurrences in scientific papers as the ground truth for real life and count the occurrence of each disease proportional to all occurrences.\n",
    "occurrences = diseases_df.iloc[:, 1]\n",
    "total_occurrences = occurrences.sum()\n",
    "prior_probabilities = occurrences/total_occurrences"
   ]
  }
 ],
 "metadata": {
  "kernelspec": {
   "display_name": "Python 3 (ipykernel)",
   "language": "python",
   "name": "python3"
  },
  "language_info": {
   "codemirror_mode": {
    "name": "ipython",
    "version": 3
   },
   "file_extension": ".py",
   "mimetype": "text/x-python",
   "name": "python",
   "nbconvert_exporter": "python",
   "pygments_lexer": "ipython3",
   "version": "3.12.3"
  }
 },
 "nbformat": 4,
 "nbformat_minor": 5
}
