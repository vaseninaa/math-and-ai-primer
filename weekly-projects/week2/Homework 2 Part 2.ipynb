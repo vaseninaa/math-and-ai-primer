{
 "cells": [
  {
   "cell_type": "code",
   "execution_count": null,
   "id": "fb91f56b-fc44-48c1-9345-8916f19d280c",
   "metadata": {},
   "outputs": [],
   "source": [
    "# Homework 2 Part 2 (due 7/07/2024)"
   ]
  },
  {
   "cell_type": "markdown",
   "id": "08469748-4a10-4631-9842-16f74f16fd7f",
   "metadata": {},
   "source": [
    "# Health-care assistance via probabilistic graphical modeling\n",
    "\n",
    "### Objective\n",
    "In this project, you will create a health-care assistance bot that can suggest diagnoses for a set of symptoms based on a probabilistic graphical model.\n",
    "\n",
    "### Step 1: Review \n",
    "Review the code from the Bayesian networks exercise.\n",
    "\n",
    "### Step 2: Acquire data\n",
    "View this [research article](https://www.nature.com/articles/ncomms5212) and download its supplementary data sets 1, 2 and 3. These data sets include the occurrences of diseases, symptoms, and their co-occurrences in the scientific literature. (For the purpose of this exercise, we are going to assume that the frequency of co-occurrences of diseases and symptoms in scientific papers is proportional to the co-occurence frequencies of actual disease cases and symptoms.)\n",
    "\n",
    "### Step 3: Create a Bayesian network\n",
    "Using commands from the `pgmpy` library, create a Bayesian network in which the probability of exhibiting a symptom is conditional on the probability of having an associated disease. \n",
    "\n",
    "### Step 4: Initialize priors\n",
    "Use the disease occurrence data to assign prior probabilities for diseases.\n",
    "\n",
    "### Step 5: Calculate conditional probability tables\n",
    "Use the co-occurrence data to define CPTs for each connected pair of disease and symptoms. (Hint: You may need to assign some occurrences of symptoms to an \"idiopathic disease\" to create valid CPTs.)\n",
    "\n",
    "### Step 6:\n",
    "Create a minimal interface in which your bot asks a users for a list of observed symptoms and then returns the name of the disease that is the most likely match to the symptoms. (Hint: Review the input/output commands that you have used in last week's homework.)"
   ]
  },
  {
   "cell_type": "code",
   "execution_count": null,
   "id": "38e7f11e-ec71-4e73-bbca-b02b632c0850",
   "metadata": {},
   "outputs": [],
   "source": []
  }
 ],
 "metadata": {
  "kernelspec": {
   "display_name": "Python 3 (ipykernel)",
   "language": "python",
   "name": "python3"
  },
  "language_info": {
   "codemirror_mode": {
    "name": "ipython",
    "version": 3
   },
   "file_extension": ".py",
   "mimetype": "text/x-python",
   "name": "python",
   "nbconvert_exporter": "python",
   "pygments_lexer": "ipython3",
   "version": "3.11.9"
  }
 },
 "nbformat": 4,
 "nbformat_minor": 5
}
