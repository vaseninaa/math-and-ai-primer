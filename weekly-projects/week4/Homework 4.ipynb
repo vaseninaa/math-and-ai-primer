{
 "cells": [
  {
   "cell_type": "code",
   "execution_count": null,
   "id": "b3370b4e",
   "metadata": {},
   "outputs": [],
   "source": [
    "# Homework 4 (due 07/19/2024)"
   ]
  },
  {
   "cell_type": "markdown",
   "id": "8deac6e2-6e9a-43be-9600-317da853484e",
   "metadata": {},
   "source": [
    "# Eigenbears continued\n",
    "\n",
    "### Step 1: Dimensionality reduction\n",
    "### Step 2: Classification on reduced-order data set\n",
    "### Step 3: Model selection"
   ]
  },
  {
   "cell_type": "code",
   "execution_count": null,
   "id": "5bd3657a-ed89-459b-947c-0b595656c0d9",
   "metadata": {},
   "outputs": [],
   "source": []
  }
 ],
 "metadata": {
  "kernelspec": {
   "display_name": "Python 3 (ipykernel)",
   "language": "python",
   "name": "python3"
  },
  "language_info": {
   "codemirror_mode": {
    "name": "ipython",
    "version": 3
   },
   "file_extension": ".py",
   "mimetype": "text/x-python",
   "name": "python",
   "nbconvert_exporter": "python",
   "pygments_lexer": "ipython3",
   "version": "3.11.9"
  }
 },
 "nbformat": 4,
 "nbformat_minor": 5
}
